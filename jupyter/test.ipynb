{
 "cells": [
  {
   "cell_type": "code",
   "execution_count": 10,
   "metadata": {},
   "outputs": [],
   "source": [
    "import json\n",
    "\n",
    "from copy import deepcopy\n"
   ]
  },
  {
   "cell_type": "code",
   "execution_count": 8,
   "metadata": {},
   "outputs": [],
   "source": [
    "base = \"../configs/distributed_tasks/\"\n",
    "configs = [f\"{base}experiment_{i}.json\" for i in range(1, 9)]\n",
    "\n",
    "all_tasks = []\n",
    "for config in configs:\n",
    "  with open(config, \"r\") as f:\n",
    "    data = json.load(f)\n",
    "    trainTasks = data[\"trainTasks\"]\n",
    "    all_tasks.extend(trainTasks)\n",
    "\n",
    "new_config = {\n",
    "  \"trainTasks\": all_tasks\n",
    "}\n",
    "with open(f\"{base}experiment_combined.json\", \"w\") as f:\n",
    "  json.dump(new_config, f)"
   ]
  },
  {
   "cell_type": "code",
   "execution_count": 16,
   "metadata": {},
   "outputs": [
    {
     "name": "stdout",
     "output_type": "stream",
     "text": [
      "[21, 21, 21, 21, 21]\n"
     ]
    }
   ],
   "source": [
    "def repeat(items, n):\n",
    "  for item in items:\n",
    "    for i in range(n):\n",
    "      yield item\n",
    "\n",
    "\n",
    "base = \"../configs/distributed_tasks/\"\n",
    "epoch_base = \"experiment_epoch_base.json\"\n",
    "all_tasks = []\n",
    "# epochs = list(repeat(list(range(3, 22, 2)), 3))\n",
    "epochs = [21] * 5\n",
    "print(epochs)\n",
    "\n",
    "with open(base + epoch_base, \"r\") as f:\n",
    "  data = json.load(f)\n",
    "  base_task = data[\"trainTasks\"][0]\n",
    "\n",
    "\n",
    "for epoch in epochs:\n",
    "  task = deepcopy(base_task)\n",
    "  task[\"jobClassParameters\"][0][\"hyperParameters\"][\"default\"][\"totalEpochs\"] = epoch\n",
    "  # print([task[\"jobClassParameters\"][0][\"hyperParameters\"][\"default\"][\"totalEpochs\"] for task in all_tasks])\n",
    "  all_tasks.append(task)\n",
    "\n",
    "new_config = {\n",
    "  \"trainTasks\": all_tasks\n",
    "}\n",
    "with open(f\"{base}experiment_epochs_baseline.json\", \"w\") as f:\n",
    "  json.dump(new_config, f, indent=2)\n"
   ]
  }
 ],
 "metadata": {
  "kernelspec": {
   "display_name": "Python 3.9.13 ('qpe')",
   "language": "python",
   "name": "python3"
  },
  "language_info": {
   "codemirror_mode": {
    "name": "ipython",
    "version": 3
   },
   "file_extension": ".py",
   "mimetype": "text/x-python",
   "name": "python",
   "nbconvert_exporter": "python",
   "pygments_lexer": "ipython3",
   "version": "3.9.13"
  },
  "orig_nbformat": 4,
  "vscode": {
   "interpreter": {
    "hash": "390ecdc84c2ba2cf098890c79da5b2045174faca911863d94e22dc4ef971d9e0"
   }
  }
 },
 "nbformat": 4,
 "nbformat_minor": 2
}
