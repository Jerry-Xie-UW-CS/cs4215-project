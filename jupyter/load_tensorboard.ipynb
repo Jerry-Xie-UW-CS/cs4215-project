{
 "cells": [
  {
   "cell_type": "code",
   "execution_count": 2,
   "metadata": {
    "pycharm": {
     "name": "#%%\n"
    },
    "vscode": {
     "languageId": "shellscript"
    }
   },
   "outputs": [],
   "source": [
    "#!pip install tensorboard tensorflow pandas\n",
    "\n",
    "\"\"\"\n",
    "If tensorboard is not installed (or other dependencies, such as tensorflow and pandas),\n",
    "uncomment the command in top and re-run. This needs only to be run once in a Jupyter kernel.\n",
    "\"\"\"\n",
    "\n",
    "%load_ext tensorboard\n",
    "\n",
    "from tensorflow.python.summary.summary_iterator import summary_iterator\n",
    "import pandas as pd\n",
    "from slugify import slugify\n",
    "import numpy as np"
   ]
  },
  {
   "cell_type": "code",
   "execution_count": null,
   "metadata": {
    "pycharm": {
     "name": "#%%\n"
    },
    "vscode": {
     "languageId": "shellscript"
    }
   },
   "outputs": [],
   "source": [
    "\"\"\"\n",
    "Change the LOG_DIR argument to point to the correct directory, you may want to use an\n",
    "absolute path if you run into issues.\n",
    "\"\"\"\n",
    "%tensorboard --logdir ../logging"
   ]
  },
  {
   "cell_type": "code",
   "execution_count": 3,
   "metadata": {
    "pycharm": {
     "name": "#%%\n"
    },
    "vscode": {
     "languageId": "shellscript"
    }
   },
   "outputs": [],
   "source": [
    "def logs_to_pandas(path: str) -> pd.DataFrame:\n",
    "    \"\"\"convert single tensorflow log file to pandas DataFrame\n",
    "    Parameters\n",
    "    ----------\n",
    "    path : str\n",
    "        path to tensorflow log file\n",
    "    Returns\n",
    "    -------\n",
    "    pd.DataFrame\n",
    "        converted dataframe\n",
    "    \"\"\"\n",
    "\n",
    "    runlog_data = pd.DataFrame({\"metric\": [], \"value\": [], \"step\": [], \"wall_time\": []})\n",
    "    try:\n",
    "        event_acc = summary_iterator(path)\n",
    "        for event in list(event_acc)[1:]:\n",
    "            step, wall_time = event.step, pd.to_datetime(event.wall_time, unit='s')\n",
    "            simple_extractor = [{\"metric\": v.tag, \"value\": v.simple_value, \"step\": step, 'wall_time': wall_time} for v in event.summary.value]\n",
    "            event_r = pd.DataFrame(simple_extractor)\n",
    "            runlog_data = pd.concat([runlog_data, event_r])\n",
    "    # Dirty catch of DataLossError\n",
    "    except Exception as e:\n",
    "        print(\"Event file possibly corrupt: {}\".format(path))\n",
    "        print(e)\n",
    "    return runlog_data"
   ]
  },
  {
   "cell_type": "code",
   "execution_count": 22,
   "metadata": {
    "vscode": {
     "languageId": "shellscript"
    }
   },
   "outputs": [
    {
     "data": {
      "text/html": [
       "<div>\n",
       "<style scoped>\n",
       "    .dataframe tbody tr th:only-of-type {\n",
       "        vertical-align: middle;\n",
       "    }\n",
       "\n",
       "    .dataframe tbody tr th {\n",
       "        vertical-align: top;\n",
       "    }\n",
       "\n",
       "    .dataframe thead th {\n",
       "        text-align: right;\n",
       "    }\n",
       "</style>\n",
       "<table border=\"1\" class=\"dataframe\">\n",
       "  <thead>\n",
       "    <tr style=\"text-align: right;\">\n",
       "      <th></th>\n",
       "      <th>start_time</th>\n",
       "      <th>end_time</th>\n",
       "      <th>total_time</th>\n",
       "      <th>accuracy_per_epoch</th>\n",
       "      <th>training_loss_per_epoch</th>\n",
       "      <th>step</th>\n",
       "    </tr>\n",
       "  </thead>\n",
       "  <tbody>\n",
       "    <tr>\n",
       "      <th>0</th>\n",
       "      <td>2022-11-01 20:33:27.279617280</td>\n",
       "      <td>2022-11-01 20:41:50.768099584</td>\n",
       "      <td>503.488482</td>\n",
       "      <td>85.239998</td>\n",
       "      <td>0.217292</td>\n",
       "      <td>20.0</td>\n",
       "    </tr>\n",
       "    <tr>\n",
       "      <th>1</th>\n",
       "      <td>2022-11-01 20:42:59.100616448</td>\n",
       "      <td>2022-11-01 20:51:24.871062784</td>\n",
       "      <td>505.770446</td>\n",
       "      <td>86.720001</td>\n",
       "      <td>0.206736</td>\n",
       "      <td>20.0</td>\n",
       "    </tr>\n",
       "    <tr>\n",
       "      <th>2</th>\n",
       "      <td>2022-11-01 20:52:38.277006592</td>\n",
       "      <td>2022-11-01 21:00:58.619353088</td>\n",
       "      <td>500.342346</td>\n",
       "      <td>86.559998</td>\n",
       "      <td>0.204996</td>\n",
       "      <td>20.0</td>\n",
       "    </tr>\n",
       "    <tr>\n",
       "      <th>3</th>\n",
       "      <td>2022-11-01 21:02:10.482034688</td>\n",
       "      <td>2022-11-01 21:10:29.571946752</td>\n",
       "      <td>499.089912</td>\n",
       "      <td>86.480003</td>\n",
       "      <td>0.213674</td>\n",
       "      <td>20.0</td>\n",
       "    </tr>\n",
       "    <tr>\n",
       "      <th>4</th>\n",
       "      <td>2022-11-01 21:11:36.981936384</td>\n",
       "      <td>2022-11-01 21:20:14.100646912</td>\n",
       "      <td>517.118710</td>\n",
       "      <td>85.199997</td>\n",
       "      <td>0.215763</td>\n",
       "      <td>20.0</td>\n",
       "    </tr>\n",
       "  </tbody>\n",
       "</table>\n",
       "</div>"
      ],
      "text/plain": [
       "                     start_time                      end_time  total_time  \\\n",
       "0 2022-11-01 20:33:27.279617280 2022-11-01 20:41:50.768099584  503.488482   \n",
       "1 2022-11-01 20:42:59.100616448 2022-11-01 20:51:24.871062784  505.770446   \n",
       "2 2022-11-01 20:52:38.277006592 2022-11-01 21:00:58.619353088  500.342346   \n",
       "3 2022-11-01 21:02:10.482034688 2022-11-01 21:10:29.571946752  499.089912   \n",
       "4 2022-11-01 21:11:36.981936384 2022-11-01 21:20:14.100646912  517.118710   \n",
       "\n",
       "   accuracy_per_epoch  training_loss_per_epoch  step  \n",
       "0           85.239998                 0.217292  20.0  \n",
       "1           86.720001                 0.206736  20.0  \n",
       "2           86.559998                 0.204996  20.0  \n",
       "3           86.480003                 0.213674  20.0  \n",
       "4           85.199997                 0.215763  20.0  "
      ]
     },
     "execution_count": 22,
     "metadata": {},
     "output_type": "execute_result"
    }
   ],
   "source": [
    "d_columns = [\"start_time\", \"end_time\", \"total_time\", \"accuracy_per_epoch\", \"training_loss_per_epoch\", \"step\"]\n",
    "def get_job_data(path):\n",
    "  result = logs_to_pandas(path)\n",
    "\n",
    "  # set all values in wall time to the minimum value with the same step\n",
    "  result.wall_time = result.groupby(\"step\").wall_time.transform(\"min\")\n",
    "  d = result.pivot_table(index=[\"step\", \"wall_time\"], columns=\"metric\", values=\"value\").reset_index()\n",
    "  d.dropna(inplace=True)\n",
    "  # flatten multidex of  dataframe\n",
    "  d.rename(columns=lambda x: slugify(x, separator=\"_\"), inplace=True)\n",
    "  d.columns.name=None\n",
    "  start_time = d.wall_time.min()\n",
    "  end_time = d.wall_time.max()\n",
    "  total_time = end_time - start_time\n",
    "\n",
    "  d[\"total_time\"] = total_time.total_seconds()\n",
    "  d[\"start_time\"] = start_time\n",
    "  d[\"end_time\"] = end_time\n",
    "  a = d[d.step == d.step.max()][d_columns]\n",
    "\n",
    "  return a\n",
    "\n",
    "base_path = \"../logging/reg_lenet_baseline_20/0\"\n",
    "net_path = \"0/Nets.mnist_lenet_Dataset.mnist\"\n",
    "# net_path = \"0/Nets.mnist_cnn_Dataset.mnist\"\n",
    "\n",
    "# get all folders in logging directory and get the data for each job\n",
    "data = pd.DataFrame(columns=d_columns)\n",
    "for folder in os.listdir(base_path):\n",
    "  path = os.path.join(base_path, folder, net_path)\n",
    "  path = os.path.join(path, os.listdir(path)[0])\n",
    "  a = get_job_data(path)\n",
    "  data = pd.concat([data, a])\n",
    "\n",
    "\n",
    "data.sort_values(\"end_time\", inplace=True)\n",
    "data.reset_index(drop=True, inplace=True)\n",
    "data"
   ]
  },
  {
   "cell_type": "code",
   "execution_count": 24,
   "metadata": {
    "vscode": {
     "languageId": "shellscript"
    }
   },
   "outputs": [
    {
     "data": {
      "text/plain": [
       "0    85.239998\n",
       "1    86.720001\n",
       "2    86.559998\n",
       "3    86.480003\n",
       "4    85.199997\n",
       "Name: accuracy_per_epoch, dtype: float64"
      ]
     },
     "execution_count": 24,
     "metadata": {},
     "output_type": "execute_result"
    }
   ],
   "source": [
    "data.accuracy_per_epoch"
   ]
  },
  {
   "cell_type": "code",
   "execution_count": 14,
   "metadata": {
    "vscode": {
     "languageId": "shellscript"
    }
   },
   "outputs": [],
   "source": [
    "def write_to_sheets(data, path, columns):\n",
    "  string_builder = []\n",
    "  for i, x in enumerate(data):\n",
    "    if i != 0 and i % columns == 0:\n",
    "      string_builder.append(\"\\n\")\n",
    "    elif i % columns != 0:\n",
    "      string_builder.append(\"\\u0009\")\n",
    "    string_builder.append(str(x))\n",
    "  output = \"\".join(string_builder)\n",
    "  with open(path, \"w\") as f:\n",
    "    f.write(output)\n",
    "\n",
    "write_to_sheets(data.total_time.values, \"test.txt\", 3)\n",
    "\n",
    "\n"
   ]
  },
  {
   "cell_type": "code",
   "execution_count": null,
   "metadata": {
    "vscode": {
     "languageId": "shellscript"
    }
   },
   "outputs": [],
   "source": []
  },
  {
   "cell_type": "code",
   "execution_count": 17,
   "metadata": {
    "vscode": {
     "languageId": "shellscript"
    }
   },
   "outputs": [],
   "source": [
    "data[[\"step\", \"total_time\", \"accuracy_per_epoch\"]].to_csv(\"text.txt\", sep=\"\\t\", index=False)\n"
   ]
  },
  {
   "cell_type": "code",
   "execution_count": null,
   "metadata": {
    "vscode": {
     "languageId": "shellscript"
    }
   },
   "outputs": [],
   "source": []
  }
 ],
 "metadata": {
  "kernelspec": {
   "display_name": "Python 3.9.13 ('qpe')",
   "language": "python",
   "name": "python3"
  },
  "language_info": {
   "codemirror_mode": {
    "name": "ipython",
    "version": 3
   },
   "file_extension": ".py",
   "mimetype": "text/x-python",
   "name": "python",
   "nbconvert_exporter": "python",
   "pygments_lexer": "ipython3",
   "version": "3.9.13"
  },
  "vscode": {
   "interpreter": {
    "hash": "390ecdc84c2ba2cf098890c79da5b2045174faca911863d94e22dc4ef971d9e0"
   }
  }
 },
 "nbformat": 4,
 "nbformat_minor": 1
}
